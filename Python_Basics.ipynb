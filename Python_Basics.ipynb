{
 "cells": [
  {
   "cell_type": "markdown",
   "id": "wicked-permit",
   "metadata": {},
   "source": [
    "# Python Basics for Data Science (IBM)"
   ]
  },
  {
   "cell_type": "markdown",
   "id": "colonial-anchor",
   "metadata": {},
   "source": [
    "## Module 1 - Python Basics\n",
    "###### 1.1. Learning Objectives. \n",
    "###### 1.2. Your First Program.\n",
    "###### 1.3. Types.\n",
    "###### 1.4. Expressions and Variables.\n",
    "###### 1.5. Lab - Write your first Python code!\n",
    "###### 1.6. String Operations.\n",
    "###### 1.7. Lab - String Operations.\n",
    "###### 1.8. Review Questions."
   ]
  },
  {
   "cell_type": "markdown",
   "id": "southeast-marble",
   "metadata": {},
   "source": [
    "### 1.1. Learning Objectives"
   ]
  },
  {
   "cell_type": "markdown",
   "id": "divine-importance",
   "metadata": {},
   "source": [
    "In this lesson you will learn the basics of Python and you will write your first Python program:\n",
    "\n",
    "* Types\n",
    "* Expressions and Variables\n",
    "* String Operations"
   ]
  },
  {
   "cell_type": "markdown",
   "id": "nervous-bible",
   "metadata": {},
   "source": [
    "### 1.2. Your First Program"
   ]
  },
  {
   "cell_type": "code",
   "execution_count": 1,
   "id": "bacterial-prompt",
   "metadata": {},
   "outputs": [
    {
     "name": "stdout",
     "output_type": "stream",
     "text": [
      "Hello World!\n"
     ]
    }
   ],
   "source": [
    "# print Hello World! (comentário)\n",
    "print('Hello World!')"
   ]
  },
  {
   "cell_type": "code",
   "execution_count": 2,
   "id": "hungarian-reggae",
   "metadata": {},
   "outputs": [
    {
     "name": "stdout",
     "output_type": "stream",
     "text": [
      "Hello\n",
      "World!\n"
     ]
    }
   ],
   "source": [
    "print(\"Hello\\nWorld!\")"
   ]
  },
  {
   "cell_type": "markdown",
   "id": "selected-colonial",
   "metadata": {},
   "source": [
    "### 1.3. Types"
   ]
  },
  {
   "cell_type": "markdown",
   "id": "occupational-ethics",
   "metadata": {},
   "source": [
    "Types:\n",
    "* int -> integer\n",
    "* float -> real number\n",
    "* str -> text\n",
    "* bool -> boolean (True or False) Note: case sensitive\n"
   ]
  },
  {
   "cell_type": "code",
   "execution_count": 3,
   "id": "basic-label",
   "metadata": {},
   "outputs": [
    {
     "data": {
      "text/plain": [
       "int"
      ]
     },
     "execution_count": 3,
     "metadata": {},
     "output_type": "execute_result"
    }
   ],
   "source": [
    "type(11)"
   ]
  },
  {
   "cell_type": "code",
   "execution_count": 4,
   "id": "corrected-routine",
   "metadata": {},
   "outputs": [
    {
     "data": {
      "text/plain": [
       "float"
      ]
     },
     "execution_count": 4,
     "metadata": {},
     "output_type": "execute_result"
    }
   ],
   "source": [
    "type(21.453)"
   ]
  },
  {
   "cell_type": "code",
   "execution_count": 5,
   "id": "quantitative-jewel",
   "metadata": {},
   "outputs": [
    {
     "data": {
      "text/plain": [
       "str"
      ]
     },
     "execution_count": 5,
     "metadata": {},
     "output_type": "execute_result"
    }
   ],
   "source": [
    "type(\"dog\")"
   ]
  },
  {
   "cell_type": "code",
   "execution_count": 6,
   "id": "impressed-number",
   "metadata": {},
   "outputs": [
    {
     "name": "stdout",
     "output_type": "stream",
     "text": [
      "<class 'int'>\n",
      "<class 'float'>\n",
      "<class 'str'>\n"
     ]
    }
   ],
   "source": [
    "print(type(11))\n",
    "print(type(21.453))\n",
    "print(type(\"dog\"))"
   ]
  },
  {
   "cell_type": "code",
   "execution_count": 7,
   "id": "later-conjunction",
   "metadata": {},
   "outputs": [
    {
     "name": "stdout",
     "output_type": "stream",
     "text": [
      "2.0\n",
      "2\n",
      "2\n",
      "7\n",
      "4\n",
      "3.343\n"
     ]
    }
   ],
   "source": [
    "#convert int to float\n",
    "print(float(2))\n",
    "\n",
    "#convert float to int\n",
    "print(int(2.1))\n",
    "print(int(2.9))\n",
    "\n",
    "#convert string to int\n",
    "print(int('7'))\n",
    "\n",
    "#convert int to string\n",
    "print(str(4))\n",
    "\n",
    "#convert float to string\n",
    "print(str(3.343))"
   ]
  },
  {
   "cell_type": "code",
   "execution_count": 8,
   "id": "floppy-phone",
   "metadata": {},
   "outputs": [
    {
     "name": "stdout",
     "output_type": "stream",
     "text": [
      "1\n",
      "0\n",
      "True\n",
      "False\n"
     ]
    }
   ],
   "source": [
    "#convert a bool to int\n",
    "print(int(True))\n",
    "print(int(False))\n",
    "\n",
    "#convert a int to bool\n",
    "print(bool(1))\n",
    "print(bool(0))"
   ]
  },
  {
   "cell_type": "markdown",
   "id": "industrial-equipment",
   "metadata": {},
   "source": [
    "### 1.4. Expressions and Variables"
   ]
  },
  {
   "cell_type": "code",
   "execution_count": 9,
   "id": "recognized-cooperation",
   "metadata": {},
   "outputs": [
    {
     "name": "stdout",
     "output_type": "stream",
     "text": [
      "160\n",
      "10\n",
      "-10\n",
      "25\n",
      "5.0\n",
      "4.166666666666667\n",
      "4\n",
      "0.6666666666666666\n",
      "0\n",
      "150\n",
      "1920\n"
     ]
    }
   ],
   "source": [
    "# Mathematical Operations\n",
    "\n",
    "print(43+60+16+41)\n",
    "print(60-50)\n",
    "print(50-60)\n",
    "print(5*5)\n",
    "print(25/5)\n",
    "print(25/6)\n",
    "print(25//6)\n",
    "print(2/3)\n",
    "print(2//3)\n",
    "print(30+2*60)\n",
    "print((30+2)*60)"
   ]
  },
  {
   "cell_type": "code",
   "execution_count": 10,
   "id": "supported-twenty",
   "metadata": {},
   "outputs": [
    {
     "name": "stdout",
     "output_type": "stream",
     "text": [
      "24\n",
      "8.0\n",
      "11\n"
     ]
    }
   ],
   "source": [
    "# Variables\n",
    "\n",
    "vX1 = 24\n",
    "print(vX1)\n",
    "\n",
    "vY1 = 5-3\n",
    "vY2 = 40/10\n",
    "vY3 = vY1 * vY2\n",
    "print(vY3)\n",
    "\n",
    "vZ1 = 10\n",
    "vZ1 = vZ1 + 1\n",
    "print(vZ1)"
   ]
  },
  {
   "cell_type": "markdown",
   "id": "enhanced-arcade",
   "metadata": {},
   "source": [
    "### 1.5. Lab - Write your first Python code!"
   ]
  },
  {
   "cell_type": "markdown",
   "id": "adjusted-valley",
   "metadata": {},
   "source": [
    "###### Video sobre Jupyter Notebooks:\n",
    "https://www.youtube.com/watch?v=A5YyoCKxEOU"
   ]
  },
  {
   "cell_type": "markdown",
   "id": "ancient-louis",
   "metadata": {},
   "source": [
    "### 1.6. String Operations"
   ]
  },
  {
   "cell_type": "code",
   "execution_count": 11,
   "id": "swiss-project",
   "metadata": {},
   "outputs": [
    {
     "name": "stdout",
     "output_type": "stream",
     "text": [
      "H\n",
      "e\n",
      "l\n",
      "\n",
      "a\n",
      "r\n",
      "i\n",
      "\n",
      "Helder\n",
      "\n",
      "Hle eria\n",
      "Hd ri\n",
      "Hle\n",
      "Hd\n"
     ]
    }
   ],
   "source": [
    "vName = \"Helder Ferreira\"\n",
    "\n",
    "print(vName[0])\n",
    "print(vName[1])\n",
    "print(vName[2])\n",
    "print(\"\")\n",
    "\n",
    "print(vName[-1])\n",
    "print(vName[-2])\n",
    "print(vName[-3])\n",
    "print(\"\")\n",
    "\n",
    "print(vName[0:6])\n",
    "print(\"\")\n",
    "\n",
    "print(vName[::2])\n",
    "print(vName[::3])\n",
    "print(vName[0:6:2])\n",
    "print(vName[0:6:3])"
   ]
  },
  {
   "cell_type": "code",
   "execution_count": 12,
   "id": "given-yeast",
   "metadata": {},
   "outputs": [
    {
     "name": "stdout",
     "output_type": "stream",
     "text": [
      "15\n",
      "Helder Ferreira\n",
      "Helder Ferreira é um baterista!\n",
      "Helder Ferreira é introvertido\n",
      "Lisboa Lisboa Lisboa \n"
     ]
    }
   ],
   "source": [
    "# Numero de caracteres\n",
    "print(len(vName))\n",
    "\n",
    "#Concatenar\n",
    "print(\"Helder \" + \"Ferreira\")\n",
    "print(vName + \" é um baterista!\")\n",
    "\n",
    "# Alterar valor de uma string\n",
    "vName = vName + \" é introvertido\"\n",
    "print(vName)\n",
    "\n",
    "# Multiplicar uma string\n",
    "print(3 * \"Lisboa \")"
   ]
  },
  {
   "cell_type": "code",
   "execution_count": 13,
   "id": "other-commissioner",
   "metadata": {},
   "outputs": [
    {
     "name": "stdout",
     "output_type": "stream",
     "text": [
      "Eu gosto de \n",
      " bolachas\n",
      "Eu gosto de \t café\n",
      "Eu gosto de \\ pudim\n",
      "Eu gosto de \\ pudim\n"
     ]
    }
   ],
   "source": [
    "# \\n (new line)\n",
    "print(\"Eu gosto de \\n bolachas\")\n",
    "\n",
    "# \\t (tab)\n",
    "print(\"Eu gosto de \\t café\")\n",
    "\n",
    "# \\\\ (simbolo \\)\n",
    "print(\"Eu gosto de \\\\ pudim\")\n",
    "print(r\"Eu gosto de \\ pudim\")"
   ]
  },
  {
   "cell_type": "code",
   "execution_count": 14,
   "id": "confidential-jewelry",
   "metadata": {},
   "outputs": [
    {
     "name": "stdout",
     "output_type": "stream",
     "text": [
      "Maria João\n",
      "MARIA JOÃO\n",
      "maria joão\n",
      "\n",
      "MARIA JOÃO\n",
      "maria joão\n",
      "\n",
      "Maria Luís\n",
      "\n",
      "0\n",
      "0\n",
      "2\n",
      "8\n",
      "-1\n",
      "-1\n"
     ]
    }
   ],
   "source": [
    "# Methods\n",
    "vOtherName = \"Maria João\"\n",
    "\n",
    "print(vOtherName)\n",
    "print(vOtherName.upper())\n",
    "print(vOtherName.lower())\n",
    "print(\"\")\n",
    "\n",
    "vNameUpper = vOtherName.upper()\n",
    "vNameLower = vOtherName.lower()\n",
    "print(vNameUpper)\n",
    "print(vNameLower)\n",
    "print(\"\")\n",
    "\n",
    "vNameReplace = vOtherName.replace(\"João\",\"Luís\")\n",
    "print(vNameReplace)\n",
    "print(\"\")\n",
    "\n",
    "print(vOtherName.find(\"M\"))\n",
    "print(vOtherName.find(\"Maria\"))\n",
    "print(vOtherName.find(\"ria\"))\n",
    "print(vOtherName.find(\"ão\"))\n",
    "print(vOtherName.find(\"h\"))\n",
    "print(vOtherName.find(\"m\"))"
   ]
  },
  {
   "cell_type": "markdown",
   "id": "standard-richards",
   "metadata": {},
   "source": [
    "### 1.7. Lab - String Operations"
   ]
  },
  {
   "cell_type": "code",
   "execution_count": null,
   "id": "overall-corrections",
   "metadata": {},
   "outputs": [],
   "source": []
  },
  {
   "cell_type": "markdown",
   "id": "moving-poultry",
   "metadata": {},
   "source": [
    "### 1.8. Review Questions"
   ]
  },
  {
   "cell_type": "code",
   "execution_count": null,
   "id": "attended-referral",
   "metadata": {},
   "outputs": [],
   "source": []
  }
 ],
 "metadata": {
  "kernelspec": {
   "display_name": "Python 3",
   "language": "python",
   "name": "python3"
  },
  "language_info": {
   "codemirror_mode": {
    "name": "ipython",
    "version": 3
   },
   "file_extension": ".py",
   "mimetype": "text/x-python",
   "name": "python",
   "nbconvert_exporter": "python",
   "pygments_lexer": "ipython3",
   "version": "3.6.12"
  }
 },
 "nbformat": 4,
 "nbformat_minor": 5
}
