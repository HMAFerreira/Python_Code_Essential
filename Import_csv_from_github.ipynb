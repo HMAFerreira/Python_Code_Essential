{
 "cells": [
  {
   "cell_type": "code",
   "execution_count": 1,
   "id": "first-insulin",
   "metadata": {},
   "outputs": [],
   "source": [
    "import pandas as pd"
   ]
  },
  {
   "cell_type": "code",
   "execution_count": 2,
   "id": "elder-print",
   "metadata": {},
   "outputs": [],
   "source": [
    "url = \"https://raw.githubusercontent.com/HMAFerreira/Data_testes/main/tabela_CSV_1.csv\""
   ]
  },
  {
   "cell_type": "code",
   "execution_count": 3,
   "id": "human-safety",
   "metadata": {},
   "outputs": [],
   "source": [
    "df = pd.read_csv(url)"
   ]
  },
  {
   "cell_type": "code",
   "execution_count": 4,
   "id": "difficult-tsunami",
   "metadata": {},
   "outputs": [
    {
     "name": "stdout",
     "output_type": "stream",
     "text": [
      "<bound method NDFrame.head of    CAMPO_A;CAMPO_B;CAMPO_V\n",
      "0                A1;B1;1.5\n",
      "1                A1;B1;1.5\n",
      "2                  A1;B2;2\n",
      "3                A1;B2;2.5\n",
      "4                  A1;B3;3\n",
      "5                  A2;B1;1\n",
      "6               A2;B2;2.75\n",
      "7               A2;B2;2.25\n",
      "8                A2;B4;3.2\n",
      "9                A3;B3;2.5\n",
      "10               A3;B4;1.7\n",
      "11               A3;B5;2.3>\n"
     ]
    }
   ],
   "source": [
    "print(df.head)"
   ]
  },
  {
   "cell_type": "code",
   "execution_count": null,
   "id": "postal-heritage",
   "metadata": {},
   "outputs": [],
   "source": []
  }
 ],
 "metadata": {
  "kernelspec": {
   "display_name": "Python 3",
   "language": "python",
   "name": "python3"
  },
  "language_info": {
   "codemirror_mode": {
    "name": "ipython",
    "version": 3
   },
   "file_extension": ".py",
   "mimetype": "text/x-python",
   "name": "python",
   "nbconvert_exporter": "python",
   "pygments_lexer": "ipython3",
   "version": "3.6.13"
  }
 },
 "nbformat": 4,
 "nbformat_minor": 5
}
