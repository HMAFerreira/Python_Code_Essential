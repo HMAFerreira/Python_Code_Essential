{
 "cells": [
  {
   "cell_type": "code",
   "execution_count": 1,
   "metadata": {},
   "outputs": [],
   "source": [
    "import pandas as pd"
   ]
  },
  {
   "cell_type": "code",
   "execution_count": 4,
   "metadata": {},
   "outputs": [
    {
     "name": "stdout",
     "output_type": "stream",
     "text": [
      "Collecting package metadata (current_repodata.json): done\n",
      "Solving environment: done\n",
      "\n",
      "## Package Plan ##\n",
      "\n",
      "  environment location: /srv/conda/envs/notebook\n",
      "\n",
      "  added / updated specs:\n",
      "    - pandasql\n",
      "\n",
      "\n",
      "The following packages will be downloaded:\n",
      "\n",
      "    package                    |            build\n",
      "    ---------------------------|-----------------\n",
      "    ca-certificates-2020.10.14 |                0         128 KB  anaconda\n",
      "    certifi-2020.6.20          |           py36_0         160 KB  anaconda\n",
      "    openssl-1.1.1h             |       h7b6447c_0         3.8 MB  anaconda\n",
      "    pandasql-0.7.3             |           py36_1          31 KB  anaconda\n",
      "    ------------------------------------------------------------\n",
      "                                           Total:         4.1 MB\n",
      "\n",
      "The following NEW packages will be INSTALLED:\n",
      "\n",
      "  pandasql           anaconda/linux-64::pandasql-0.7.3-py36_1\n",
      "\n",
      "The following packages will be UPDATED:\n",
      "\n",
      "  ca-certificates    conda-forge::ca-certificates-2020.6.2~ --> anaconda::ca-certificates-2020.10.14-0\n",
      "  openssl            conda-forge::openssl-1.1.1g-h516909a_0 --> anaconda::openssl-1.1.1h-h7b6447c_0\n",
      "\n",
      "The following packages will be SUPERSEDED by a higher-priority channel:\n",
      "\n",
      "  certifi            conda-forge::certifi-2020.6.20-py36h9~ --> anaconda::certifi-2020.6.20-py36_0\n",
      "\n",
      "\n",
      "\n",
      "Downloading and Extracting Packages\n",
      "pandasql-0.7.3       | 31 KB     | ##################################### | 100% \n",
      "openssl-1.1.1h       | 3.8 MB    | ##################################### | 100% \n",
      "certifi-2020.6.20    | 160 KB    | ##################################### | 100% \n",
      "ca-certificates-2020 | 128 KB    | ##################################### | 100% \n",
      "Preparing transaction: done\n",
      "Verifying transaction: done\n",
      "Executing transaction: done\n"
     ]
    }
   ],
   "source": [
    "!conda install -c anaconda pandasql -y\n",
    "from pandasql import sqldf"
   ]
  },
  {
   "cell_type": "code",
   "execution_count": 22,
   "metadata": {},
   "outputs": [],
   "source": [
    "url = \"https://raw.githubusercontent.com/HMAFerreira/Data_testes/main/tabela_CSV_2.csv\""
   ]
  },
  {
   "cell_type": "code",
   "execution_count": 23,
   "metadata": {},
   "outputs": [],
   "source": [
    "df = pd.read_csv(url)"
   ]
  },
  {
   "cell_type": "code",
   "execution_count": 24,
   "metadata": {},
   "outputs": [
    {
     "name": "stdout",
     "output_type": "stream",
     "text": [
      "<bound method NDFrame.head of    CAMPO_A CAMPO_B  CAMPO_V\n",
      "0       A1      B1     1.50\n",
      "1       A1      B1     1.50\n",
      "2       A1      B2     2.00\n",
      "3       A1      B2     2.50\n",
      "4       A1      B3     3.00\n",
      "5       A2      B1     1.00\n",
      "6       A2      B2     2.75\n",
      "7       A2      B2     2.25\n",
      "8       A2      B4     3.20\n",
      "9       A3      B3     2.50\n",
      "10      A3      B4     1.70\n",
      "11      A3      B5     2.30>\n"
     ]
    }
   ],
   "source": [
    "print(df.head)"
   ]
  },
  {
   "cell_type": "code",
   "execution_count": 29,
   "metadata": {},
   "outputs": [
    {
     "name": "stdout",
     "output_type": "stream",
     "text": [
      "  CAMPO_A CAMPO_B  CAMPO_V\n",
      "0      A1      B1      1.5\n",
      "1      A1      B1      1.5\n",
      "2      A1      B2      2.0\n",
      "3      A1      B2      2.5\n",
      "4      A1      B3      3.0\n",
      "5      A3      B3      2.5\n",
      "6      A3      B4      1.7\n",
      "7      A3      B5      2.3\n"
     ]
    }
   ],
   "source": [
    "print(sqldf(\"SELECT * FROM df WHERE CAMPO_A IN ('A1','A3');\", locals()))"
   ]
  },
  {
   "cell_type": "code",
   "execution_count": null,
   "metadata": {},
   "outputs": [],
   "source": []
  }
 ],
 "metadata": {
  "kernelspec": {
   "display_name": "Python 3",
   "language": "python",
   "name": "python3"
  },
  "language_info": {
   "codemirror_mode": {
    "name": "ipython",
    "version": 3
   },
   "file_extension": ".py",
   "mimetype": "text/x-python",
   "name": "python",
   "nbconvert_exporter": "python",
   "pygments_lexer": "ipython3",
   "version": "3.6.11"
  }
 },
 "nbformat": 4,
 "nbformat_minor": 5
}
